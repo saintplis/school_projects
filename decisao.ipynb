nome = input("Digite o nome: ")
if (nome == 'Rafael'):
    print ("Parabéns!, Você tem o mesmo nome que eu {} :D", nome)
else:
    print ("Não foi dessa vez {} ;( ", nome)
